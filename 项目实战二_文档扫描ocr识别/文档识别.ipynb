{
 "cells": [
  {
   "cell_type": "markdown",
   "id": "28a86f26",
   "metadata": {},
   "source": [
    "## Description:\n",
    "基于处理好的文档，接下来进行ocr识别， 这里借助的是第三方库pytesseract包"
   ]
  },
  {
   "cell_type": "code",
   "execution_count": 24,
   "id": "48567851",
   "metadata": {},
   "outputs": [],
   "source": [
    "from PIL import Image\n",
    "import pytesseract\n",
    "import cv2\n",
    "import os"
   ]
  },
  {
   "cell_type": "code",
   "execution_count": 25,
   "id": "f123506f",
   "metadata": {},
   "outputs": [],
   "source": [
    "image = cv2.imread('images/scan.jpg')\n",
    "gray = cv2.cvtColor(image, cv2.COLOR_BGR2GRAY)"
   ]
  },
  {
   "cell_type": "code",
   "execution_count": 26,
   "id": "cade2daa",
   "metadata": {},
   "outputs": [],
   "source": [
    "# 滤波或者二值化下，使得图片更加清楚\n",
    "preprocess = 'thresh'\n",
    "if preprocess == \"thresh\":\n",
    "    gray = cv2.threshold(gray, 0, 255,cv2.THRESH_BINARY | cv2.THRESH_OTSU)[1]\n",
    "\n",
    "if preprocess == \"blur\":\n",
    "    gray = cv2.medianBlur(gray, 3)"
   ]
  },
  {
   "cell_type": "code",
   "execution_count": 27,
   "id": "9c998832",
   "metadata": {},
   "outputs": [
    {
     "data": {
      "text/plain": [
       "True"
      ]
     },
     "execution_count": 27,
     "metadata": {},
     "output_type": "execute_result"
    }
   ],
   "source": [
    "filename = \"{}.png\".format(os.getpid())\n",
    "cv2.imwrite(filename, gray)"
   ]
  },
  {
   "cell_type": "code",
   "execution_count": 28,
   "id": "0f122fb7",
   "metadata": {},
   "outputs": [],
   "source": [
    "img = Image.open(filename)"
   ]
  },
  {
   "cell_type": "code",
   "execution_count": 29,
   "id": "f3cb2c03",
   "metadata": {},
   "outputs": [],
   "source": [
    "text = pytesseract.image_to_string(img)"
   ]
  },
  {
   "cell_type": "code",
   "execution_count": 30,
   "id": "e955ad67",
   "metadata": {},
   "outputs": [
    {
     "name": "stdout",
     "output_type": "stream",
     "text": [
      "FOODS\n",
      "Pm Aa or Kk _E I l\n",
      "WHOLE FOODS MARKET - WESTPORT,CT 06880\n",
      "\n",
      "399 POST RD WEST - (203) 227-6858\n",
      "\n",
      ". 99\n",
      ". 99\n",
      "\n",
      "365 BACON LS NP 4\n",
      "365 BACON LS NP 4\n",
      "365 BACON LS NP 4 . 99\n",
      "365 BACON LS NP 4 . 99\n",
      "BROTH CHIC NP 2.19\n",
      "FLOUR ALMOND NP | 11.99\n",
      "CHKN BRST BNLSS SK NP 18.80\n",
      "HEAVY CREAM NP 3\n",
      "BALSMC REDUCT NP _ 6\n",
      "BEEF -8§5/15 NP 5\n",
      "\n",
      ". 39\n",
      ".- 49\n",
      ". 04\n",
      "\n",
      " \n",
      "\n",
      "we oom ok owe o mko Kk ko wo % XK\n",
      "\n",
      "\n"
     ]
    }
   ],
   "source": [
    "print(text)"
   ]
  },
  {
   "cell_type": "code",
   "execution_count": 22,
   "id": "839560a3",
   "metadata": {},
   "outputs": [],
   "source": [
    "def cv_show(title, img):\n",
    "    cv2.imshow(title, img)\n",
    "    cv2.waitKey(0)\n",
    "    cv2.destroyAllWindows()"
   ]
  },
  {
   "cell_type": "code",
   "execution_count": 23,
   "id": "3b96e6b5",
   "metadata": {},
   "outputs": [],
   "source": [
    "cv_show('t', gray)"
   ]
  }
 ],
 "metadata": {
  "kernelspec": {
   "display_name": "Python 3 (ipykernel)",
   "language": "python",
   "name": "python3"
  },
  "language_info": {
   "codemirror_mode": {
    "name": "ipython",
    "version": 3
   },
   "file_extension": ".py",
   "mimetype": "text/x-python",
   "name": "python",
   "nbconvert_exporter": "python",
   "pygments_lexer": "ipython3",
   "version": "3.7.10"
  }
 },
 "nbformat": 4,
 "nbformat_minor": 5
}
