{
 "cells": [
  {
   "cell_type": "markdown",
   "id": "cc2cf467",
   "metadata": {},
   "source": [
    "## Description:\n",
    "把处理信用卡的这个主要程序拿出来，写成函数的形式， 给定一张信用卡，直接拿到信用卡上面的数字"
   ]
  },
  {
   "cell_type": "code",
   "execution_count": 1,
   "id": "7b856448",
   "metadata": {},
   "outputs": [],
   "source": [
    "import os\n",
    "import numpy as np\n",
    "from imutils import contours\n",
    "import cv2\n",
    "import pickle\n",
    "\n",
    "from utils import cv_show, resize, credit_process, comput_contours, getOutput"
   ]
  },
  {
   "cell_type": "code",
   "execution_count": 2,
   "id": "43129142",
   "metadata": {},
   "outputs": [],
   "source": [
    "def credict_digit_ocr(credit, digits2Cnt):\n",
    "    \n",
    "    # 转成灰度图\n",
    "    credit_card = resize(credit, width=300)\n",
    "    credit_gray = cv2.cvtColor(credit_card, cv2.COLOR_BGR2GRAY)\n",
    "    \n",
    "    # 形态学处理操作\n",
    "    thresh = credit_process(credit_gray)\n",
    "    \n",
    "    # 计算大轮廓\n",
    "    locs = comput_contours(thresh)\n",
    "     \n",
    "    # 得到结果\n",
    "    output = getOutput(locs, digits2Cnt, credit_card, credit_gray)\n",
    "    \n",
    "    return output, credit_card"
   ]
  },
  {
   "cell_type": "code",
   "execution_count": 3,
   "id": "18167cab",
   "metadata": {},
   "outputs": [
    {
     "name": "stdout",
     "output_type": "stream",
     "text": [
      "Credit Card Type: Visa\n",
      "Credit Card #: 4000123456789010\n"
     ]
    }
   ],
   "source": [
    "# 读取图像\n",
    "base_path = 'images'\n",
    "file_name = 'credit_card_01.png'\n",
    "credit_card = cv2.imread(os.path.join(base_path, file_name))\n",
    "\n",
    "# 读入模板映射字典\n",
    "digits2Cnt = pickle.load(open('digits2Cnt.pkl', 'rb'))\n",
    "\n",
    "# 指定信用卡类型\n",
    "FIRST_NUMBER = {\n",
    "    \"3\": \"American Express\",\n",
    "    \"4\": \"Visa\",\n",
    "    \"5\": \"MasterCard\",\n",
    "    \"6\": \"Discover Card\"\n",
    "}\n",
    "\n",
    "# 信用卡数字识别\n",
    "output, image = credict_digit_ocr(credit_card, digits2Cnt)\n",
    "\n",
    "# 识别结果展示\n",
    "print(\"Credit Card Type: {}\".format(FIRST_NUMBER[output[0]]))\n",
    "print(\"Credit Card #: {}\".format(\"\".join(output)))\n",
    "cv_show('Image', image)"
   ]
  },
  {
   "cell_type": "code",
   "execution_count": null,
   "id": "bc9eaa47",
   "metadata": {},
   "outputs": [],
   "source": []
  },
  {
   "cell_type": "code",
   "execution_count": null,
   "id": "a992c47a",
   "metadata": {},
   "outputs": [],
   "source": []
  },
  {
   "cell_type": "code",
   "execution_count": null,
   "id": "951044e0",
   "metadata": {},
   "outputs": [],
   "source": []
  },
  {
   "cell_type": "code",
   "execution_count": null,
   "id": "be91c679",
   "metadata": {},
   "outputs": [],
   "source": []
  }
 ],
 "metadata": {
  "kernelspec": {
   "display_name": "Python 3 (ipykernel)",
   "language": "python",
   "name": "python3"
  },
  "language_info": {
   "codemirror_mode": {
    "name": "ipython",
    "version": 3
   },
   "file_extension": ".py",
   "mimetype": "text/x-python",
   "name": "python",
   "nbconvert_exporter": "python",
   "pygments_lexer": "ipython3",
   "version": "3.7.10"
  }
 },
 "nbformat": 4,
 "nbformat_minor": 5
}
