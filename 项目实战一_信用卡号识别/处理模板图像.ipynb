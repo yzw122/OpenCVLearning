{
 "cells": [
  {
   "cell_type": "markdown",
   "id": "a6ccf45a",
   "metadata": {},
   "source": [
    "## Description:\n",
    "这个jupyter主要是处理模板图像， 读取，然后计算轮廓图，把模板图像划分成一个个的小格子"
   ]
  },
  {
   "cell_type": "code",
   "execution_count": 1,
   "id": "fcc47d74",
   "metadata": {},
   "outputs": [],
   "source": [
    "import numpy as np\n",
    "import cv2\n",
    "from imutils import contours\n",
    "import pickle"
   ]
  },
  {
   "cell_type": "code",
   "execution_count": 2,
   "id": "96fc8ddc",
   "metadata": {},
   "outputs": [],
   "source": [
    "def cv_show(title, img):\n",
    "    cv2.imshow(title, img)\n",
    "    cv2.waitKey(0)\n",
    "    cv2.destroyAllWindows()"
   ]
  },
  {
   "cell_type": "code",
   "execution_count": 3,
   "id": "a45f8fb8",
   "metadata": {},
   "outputs": [],
   "source": [
    "# 读取模板图像\n",
    "img = cv2.imread(\"images/ocr_a_reference.png\")   # 读取的时候转灰度 cv2.imread(\"images/ocr_a_reference.png\", 0)\n",
    "# 转成灰度图\n",
    "template = cv2.cvtColor(img, cv2.COLOR_BGR2GRAY)\n",
    "# 二值图像\n",
    "template = cv2.threshold(template, 10, 255, cv2.THRESH_BINARY_INV)[1]\n",
    "# cv_show('template', template)"
   ]
  },
  {
   "cell_type": "code",
   "execution_count": 4,
   "id": "d23ed88e",
   "metadata": {},
   "outputs": [],
   "source": [
    "cv_show('template', template)"
   ]
  },
  {
   "cell_type": "code",
   "execution_count": 21,
   "id": "87f6b97d",
   "metadata": {},
   "outputs": [
    {
     "data": {
      "text/plain": [
       "(126, 800)"
      ]
     },
     "execution_count": 21,
     "metadata": {},
     "output_type": "execute_result"
    }
   ],
   "source": [
    "template.shape"
   ]
  },
  {
   "cell_type": "markdown",
   "id": "61f73c33",
   "metadata": {},
   "source": [
    "## 计算轮廓\n",
    "cv2.findContours()函数接受的参数为二值图， 即黑白图像(不是灰度图), cv2.RETR_EXTERNAL只检测外轮廓， cv2.CHAIN_APPROX_SIMPLE只保留终点坐标"
   ]
  },
  {
   "cell_type": "code",
   "execution_count": 7,
   "id": "ba560cf7",
   "metadata": {},
   "outputs": [],
   "source": [
    "# 最新版opencv只返回两个值了 3.2之后， 不会返回原来的二值图像了，直接返回轮廓信息和层级信息\n",
    "contourss, hierarchy = cv2.findContours(template.copy(), cv2.RETR_EXTERNAL,cv2.CHAIN_APPROX_SIMPLE)"
   ]
  },
  {
   "cell_type": "code",
   "execution_count": 14,
   "id": "4fe02c86",
   "metadata": {},
   "outputs": [
    {
     "data": {
      "text/plain": [
       "10"
      ]
     },
     "execution_count": 14,
     "metadata": {},
     "output_type": "execute_result"
    }
   ],
   "source": [
    "len(contourss)  # 10个轮廓"
   ]
  },
  {
   "cell_type": "code",
   "execution_count": 8,
   "id": "cce1bd87",
   "metadata": {},
   "outputs": [
    {
     "data": {
      "text/plain": [
       "array([[[255, 255, 255],\n",
       "        [255, 255, 255],\n",
       "        [255, 255, 255],\n",
       "        ...,\n",
       "        [255, 255, 255],\n",
       "        [255, 255, 255],\n",
       "        [255, 255, 255]],\n",
       "\n",
       "       [[255, 255, 255],\n",
       "        [255, 255, 255],\n",
       "        [255, 255, 255],\n",
       "        ...,\n",
       "        [255, 255, 255],\n",
       "        [255, 255, 255],\n",
       "        [255, 255, 255]],\n",
       "\n",
       "       [[255, 255, 255],\n",
       "        [255, 255, 255],\n",
       "        [255, 255, 255],\n",
       "        ...,\n",
       "        [255, 255, 255],\n",
       "        [255, 255, 255],\n",
       "        [255, 255, 255]],\n",
       "\n",
       "       ...,\n",
       "\n",
       "       [[255, 255, 255],\n",
       "        [255, 255, 255],\n",
       "        [255, 255, 255],\n",
       "        ...,\n",
       "        [255, 255, 255],\n",
       "        [255, 255, 255],\n",
       "        [255, 255, 255]],\n",
       "\n",
       "       [[255, 255, 255],\n",
       "        [255, 255, 255],\n",
       "        [255, 255, 255],\n",
       "        ...,\n",
       "        [255, 255, 255],\n",
       "        [255, 255, 255],\n",
       "        [255, 255, 255]],\n",
       "\n",
       "       [[255, 255, 255],\n",
       "        [255, 255, 255],\n",
       "        [255, 255, 255],\n",
       "        ...,\n",
       "        [255, 255, 255],\n",
       "        [255, 255, 255],\n",
       "        [255, 255, 255]]], dtype=uint8)"
      ]
     },
     "execution_count": 8,
     "metadata": {},
     "output_type": "execute_result"
    }
   ],
   "source": [
    "# 可视化一下\n",
    "cv2.drawContours(img,contourss,-1,(0,0,255),3) \n",
    "# cv_show('template', img)"
   ]
  },
  {
   "cell_type": "code",
   "execution_count": 10,
   "id": "47674573",
   "metadata": {},
   "outputs": [],
   "source": [
    "cv_show('template', img)"
   ]
  },
  {
   "cell_type": "code",
   "execution_count": 17,
   "id": "24f07cd7",
   "metadata": {},
   "outputs": [],
   "source": [
    "# 下面将轮廓进行排序，这是因为必须保证轮廓的顺序是0-9的顺序排列着\n",
    "def sort_contours(cnts, method='left-to-right'):\n",
    "    reverse = False\n",
    "    i = 0\n",
    "    if method == 'right-to-left' or method == 'bottom-to-top':\n",
    "        reverse = True\n",
    "    if method == 'top-to-bottom' or method == 'bottom-to-top':\n",
    "        i = 1\n",
    "    \n",
    "    boundingBoxes = [cv2.boundingRect(c) for c in cnts]  # 用一个最小矩形，把找到的形状包起来x,y,h,w\n",
    "    \n",
    "    # 根据每个轮廓左上角的点进行排序， 这样能保证轮廓的顺序就是0-9的数字排列顺序\n",
    "    (cnts, boundingBoxes) = zip(*sorted(zip(cnts, boundingBoxes), key=lambda x:x[1][i], reverse=reverse))\n",
    "    \n",
    "    return cnts, boundingBoxes "
   ]
  },
  {
   "cell_type": "code",
   "execution_count": 18,
   "id": "3e079b3d",
   "metadata": {},
   "outputs": [],
   "source": [
    "refCnts = sort_contours(contourss, method='left-to-right')[0]  "
   ]
  },
  {
   "cell_type": "code",
   "execution_count": 26,
   "id": "3cbbb2e2",
   "metadata": {},
   "outputs": [],
   "source": [
    "# 每个轮廓进行数字编号\n",
    "digits2Cnt = {}\n",
    "# 遍历每个轮廓\n",
    "for i, c in enumerate(refCnts):\n",
    "    # 计算外接矩形，并且resize成合适大小\n",
    "    (x, y, w, h) = cv2.boundingRect(c)\n",
    "    # 单独把每个数字框拿出来 坐标系竖着的是y， 横着的是x\n",
    "    roi = template[y:y+h, x:x+w] \n",
    "    # 重新改变大小\n",
    "    roi = cv2.resize(roi, (57, 88))\n",
    "    \n",
    "    # 框与字典对应\n",
    "    digits2Cnt[i] = roi"
   ]
  },
  {
   "cell_type": "code",
   "execution_count": 29,
   "id": "36503799",
   "metadata": {},
   "outputs": [],
   "source": [
    "# 把处理好的模板进行保存\n",
    "pickle.dump(digits2Cnt, open('digits2Cnt.pkl', 'wb'))"
   ]
  }
 ],
 "metadata": {
  "kernelspec": {
   "display_name": "Python 3 (ipykernel)",
   "language": "python",
   "name": "python3"
  },
  "language_info": {
   "codemirror_mode": {
    "name": "ipython",
    "version": 3
   },
   "file_extension": ".py",
   "mimetype": "text/x-python",
   "name": "python",
   "nbconvert_exporter": "python",
   "pygments_lexer": "ipython3",
   "version": "3.7.10"
  }
 },
 "nbformat": 4,
 "nbformat_minor": 5
}
