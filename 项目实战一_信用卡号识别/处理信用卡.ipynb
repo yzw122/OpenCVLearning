{
 "cells": [
  {
   "cell_type": "markdown",
   "id": "d7a41570",
   "metadata": {},
   "source": [
    "## Description:\n",
    "这个jupyter是处理信用卡， 主要是把信用卡上的数字获取到"
   ]
  },
  {
   "cell_type": "code",
   "execution_count": 1,
   "id": "aec28da5",
   "metadata": {},
   "outputs": [],
   "source": [
    "import os\n",
    "import numpy as np\n",
    "from imutils import contours\n",
    "import cv2\n",
    "import pickle"
   ]
  },
  {
   "cell_type": "code",
   "execution_count": 2,
   "id": "8f427298",
   "metadata": {},
   "outputs": [],
   "source": [
    "def cv_show(title, img):\n",
    "    cv2.imshow(title, img)\n",
    "    cv2.waitKey(0)\n",
    "    cv2.destroyAllWindows()"
   ]
  },
  {
   "cell_type": "code",
   "execution_count": 3,
   "id": "9762fa93",
   "metadata": {},
   "outputs": [],
   "source": [
    "def resize(image, width=None, height=None, inter=cv2.INTER_AREA):\n",
    "    dim = None\n",
    "    (h, w) = image.shape[:2]\n",
    "    if width is None and height is None:\n",
    "        return image\n",
    "    if width is None:\n",
    "        r = height / float(h)\n",
    "        dim = (int(w * r), height)\n",
    "    else:\n",
    "        r = width / float(w)\n",
    "        dim = (width, int(h * r))\n",
    "    resized = cv2.resize(image, dim, interpolation=inter)\n",
    "    return resized"
   ]
  },
  {
   "cell_type": "code",
   "execution_count": 4,
   "id": "73962d45",
   "metadata": {},
   "outputs": [],
   "source": [
    "# 读取图像\n",
    "base_path = 'images'\n",
    "file_name = 'credit_card_01.png'\n",
    "credit_card = cv2.imread(os.path.join(base_path, file_name))\n",
    "credit_card = resize(credit_card, width=300)\n",
    "credit_gray = cv2.cvtColor(credit_card, cv2.COLOR_BGR2GRAY)"
   ]
  },
  {
   "cell_type": "code",
   "execution_count": 5,
   "id": "f6dd5847",
   "metadata": {},
   "outputs": [],
   "source": [
    "cv_show('img', credit_gray)"
   ]
  },
  {
   "cell_type": "code",
   "execution_count": 6,
   "id": "8c4bd671",
   "metadata": {},
   "outputs": [],
   "source": [
    "# 顶帽操作，突出更明亮的区域\n",
    "\n",
    "# 初始化卷积核\n",
    "rectKernel = cv2.getStructuringElement(cv2.MORPH_RECT, (9, 3))  # 自定义卷积核的大小了\n",
    "sqKernel = cv2.getStructuringElement(cv2.MORPH_RECT, (5, 5))\n",
    "\n",
    "tophat = cv2.morphologyEx(credit_gray, cv2.MORPH_TOPHAT, rectKernel)\n",
    "# cv_show('tophat', tophat)"
   ]
  },
  {
   "cell_type": "code",
   "execution_count": 7,
   "id": "fa725628",
   "metadata": {},
   "outputs": [],
   "source": [
    "cv_show('tophat', tophat)"
   ]
  },
  {
   "cell_type": "code",
   "execution_count": 8,
   "id": "8849c71c",
   "metadata": {},
   "outputs": [],
   "source": [
    "# 水平边缘检测  \n",
    "gradX = cv2.Sobel(tophat, ddepth=cv2.CV_32F, dx=1, dy=0, ksize=-1)  # 水平边缘检测\n",
    "# gradX = cv2.convertScaleAbs(gradX)    这个操作会把一些背景边缘也给检测出来，加了一些噪声\n",
    "\n",
    "# 所以下面手动归一化操作\n",
    "gradX = np.absolute(gradX)\n",
    "(minVal, maxVal) = (np.min(gradX), np.max(gradX))\n",
    "gradX = (255 * ((gradX-minVal) / (maxVal-minVal)))\n",
    "gradX = gradX.astype('uint8')\n",
    "\n",
    "# 这里也可以按照之前的常规， 先水平，后垂直，然后合并，但是效果可能不如单独x的效果好"
   ]
  },
  {
   "cell_type": "code",
   "execution_count": 9,
   "id": "a788aa88",
   "metadata": {},
   "outputs": [],
   "source": [
    "cv_show('gradX', gradX)"
   ]
  },
  {
   "cell_type": "markdown",
   "id": "d91fa4f2",
   "metadata": {},
   "source": [
    "接下来的一个问题， 目前确实能找到边缘了，但是想把数字挨着近的练成一块块的，所以就需要用到形态学相关操作了"
   ]
  },
  {
   "cell_type": "code",
   "execution_count": 11,
   "id": "c3696fa5",
   "metadata": {},
   "outputs": [],
   "source": [
    "# 闭操作: 先膨胀， 后腐蚀  膨胀就能连成一块了\n",
    "gradX = cv2.morphologyEx(gradX, cv2.MORPH_CLOSE, rectKernel)"
   ]
  },
  {
   "cell_type": "code",
   "execution_count": 12,
   "id": "0e1a161b",
   "metadata": {},
   "outputs": [],
   "source": [
    "cv_show('gradX', gradX)"
   ]
  },
  {
   "cell_type": "markdown",
   "id": "41f6f473",
   "metadata": {},
   "source": [
    "然后会发现，数字虽然大部分连成一块一块的了，但是有些地方有些黑洞，下面尝试把这些黑洞用白色填充起来"
   ]
  },
  {
   "cell_type": "code",
   "execution_count": 13,
   "id": "ff4ae723",
   "metadata": {},
   "outputs": [],
   "source": [
    "#THRESH_OTSU会自动寻找合适的阈值，适合双峰，需把阈值参数设置为0  让opencv自动的去做判断，找合适的阈值，这样就能自动找出哪些有用，哪些没用\n",
    "thresh = cv2.threshold(gradX, 0, 255, cv2.THRESH_BINARY | cv2.THRESH_OTSU)[1] \n",
    "cv_show('thresh',thresh)"
   ]
  },
  {
   "cell_type": "code",
   "execution_count": 14,
   "id": "16bb842b",
   "metadata": {},
   "outputs": [],
   "source": [
    "#再来一个闭操作\n",
    "thresh = cv2.morphologyEx(thresh, cv2.MORPH_CLOSE, sqKernel) #再来一个闭操作\n",
    "cv_show('thresh',thresh)"
   ]
  },
  {
   "cell_type": "markdown",
   "id": "e33aa9f9",
   "metadata": {},
   "source": [
    "## 计算轮廓\n",
    "图片处理的差不多了，下面就直接找轮廓"
   ]
  },
  {
   "cell_type": "code",
   "execution_count": 15,
   "id": "0adb87ef",
   "metadata": {},
   "outputs": [],
   "source": [
    "threshCnts, hierarchy = cv2.findContours(thresh.copy(), cv2.RETR_EXTERNAL, cv2.CHAIN_APPROX_SIMPLE)\n",
    "cnts = threshCnts\n",
    "cur_img = credit_card.copy()\n",
    "\n",
    "# 把轮廓画出来\n",
    "cv2.drawContours(cur_img, cnts, -1, (0, 0, 255), 3)\n",
    "cv_show('img', cur_img)"
   ]
  },
  {
   "cell_type": "code",
   "execution_count": 18,
   "id": "54572f56",
   "metadata": {},
   "outputs": [],
   "source": [
    "# 找到包围数字的那四个大轮廓\n",
    "locs = []\n",
    "# 遍历轮廓\n",
    "for i, c in enumerate(cnts):\n",
    "    # 计算外接矩形\n",
    "    (x, y, w, h) = cv2.boundingRect(c)\n",
    "    ar = w / float(h)\n",
    "    \n",
    "    # 选择合适的区域， 这里的基本都是四个数字一组\n",
    "    if ar > 2.5 and ar < 4.0:\n",
    "        if (w > 40 and w < 55) and (h > 10 and h < 20):\n",
    "            # 符合\n",
    "            locs.append((x, y, w, h))\n",
    "\n",
    "# 轮廓从左到右排序\n",
    "locs = sorted(locs, key=lambda x: x[0])"
   ]
  },
  {
   "cell_type": "markdown",
   "id": "70d3faaa",
   "metadata": {},
   "source": [
    "## 得到每个轮廓中的每个数字，然后匹配 "
   ]
  },
  {
   "cell_type": "code",
   "execution_count": 19,
   "id": "bce97ac4",
   "metadata": {},
   "outputs": [],
   "source": [
    "# 下面将轮廓进行排序，这是因为必须保证轮廓的顺序是0-9的顺序排列着\n",
    "def sort_contours(cnts, method='left-to-right'):\n",
    "    reverse = False\n",
    "    i = 0\n",
    "    if method == 'right-to-left' or method == 'bottom-to-top':\n",
    "        reverse = True\n",
    "    if method == 'top-to-bottom' or method == 'bottom-to-top':\n",
    "        i = 1\n",
    "    \n",
    "    boundingBoxes = [cv2.boundingRect(c) for c in cnts]  # 用一个最小矩形，把找到的形状包起来x,y,h,w\n",
    "    \n",
    "    # 根据每个轮廓左上角的点进行排序， 这样能保证轮廓的顺序就是0-9的数字排列顺序\n",
    "    (cnts, boundingBoxes) = zip(*sorted(zip(cnts, boundingBoxes), key=lambda x:x[1][i], reverse=reverse))\n",
    "    \n",
    "    return cnts, boundingBoxes "
   ]
  },
  {
   "cell_type": "code",
   "execution_count": 20,
   "id": "2050674f",
   "metadata": {},
   "outputs": [],
   "source": [
    "digits2Cnt = pickle.load(open('digits2Cnt.pkl', 'rb'))"
   ]
  },
  {
   "cell_type": "code",
   "execution_count": 21,
   "id": "f48cc481",
   "metadata": {},
   "outputs": [],
   "source": [
    "outputs = []\n",
    "\n",
    "# 遍历每一个轮廓中的的数字\n",
    "for (i, (gX, gY, gW, gH)) in enumerate(locs):\n",
    "    # 初始化组\n",
    "    groupOutput = []\n",
    "    \n",
    "    # 根据坐标提取每一组\n",
    "    group = credit_gray[gY-5:gY+gH+5, gX-5:gX+gW+5]  # 有5的一个容错长度\n",
    "    \n",
    "    # 对于这每一组，先预处理  \n",
    "    # 二值化，自动寻找合适阈值，增强对比，更突出有用的部分，即数字\n",
    "    group = cv2.threshold(group, 0, 255, cv2.THRESH_BINARY | cv2.THRESH_OTSU)[1]\n",
    "    \n",
    "    # 计算每一组的轮廓\n",
    "    digitCnts, hierarchy = cv2.findContours(group.copy(), cv2.RETR_EXTERNAL, cv2.CHAIN_APPROX_SIMPLE)\n",
    "    digitCnts = sort_contours(digitCnts, method='left-to-right')[0]\n",
    "    \n",
    "    # 拿到每一组的每一个数字，然后进行模板匹配\n",
    "    for c in digitCnts:\n",
    "        # 找到当前数值的轮廓，resize成合适的大小\n",
    "        (x, y, w, h) = cv2.boundingRect(c)\n",
    "        roi = group[y:y+h, x:x+w]\n",
    "        roi = cv2.resize(roi, (57, 88))\n",
    "        \n",
    "        # 模板匹配\n",
    "        scores = []\n",
    "        for (digit, digitROI) in digits2Cnt.items():\n",
    "            result = cv2.matchTemplate(roi, digitROI, cv2.TM_CCOEFF)\n",
    "            (_, score, _, _) = cv2.minMaxLoc(result)\n",
    "            scores.append(score)\n",
    "        \n",
    "        # 得到合适的数字\n",
    "        # 这是个列表，存储的每个小组里面的数字识别结果\n",
    "        groupOutput.append(str(np.argmax(scores)))\n",
    "    \n",
    "    # 画出来\n",
    "    cv2.rectangle(credit_card, (gX - 5, gY - 5), (gX + gW + 5, gY + gH + 5), (0, 0, 255), 1)\n",
    "    cv2.putText(credit_card, \"\".join(groupOutput), (gX, gY - 15), cv2.FONT_HERSHEY_SIMPLEX, 0.65, (0, 0, 255), 2)\n",
    "    \n",
    "    # 合并到最后的结果里面\n",
    "    outputs.extend(groupOutput)"
   ]
  },
  {
   "cell_type": "code",
   "execution_count": 22,
   "id": "9915fdf0",
   "metadata": {},
   "outputs": [],
   "source": [
    "# 指定信用卡类型\n",
    "FIRST_NUMBER = {\n",
    "\t\"3\": \"American Express\",\n",
    "\t\"4\": \"Visa\",\n",
    "\t\"5\": \"MasterCard\",\n",
    "\t\"6\": \"Discover Card\"\n",
    "}"
   ]
  },
  {
   "cell_type": "code",
   "execution_count": 23,
   "id": "c5938eec",
   "metadata": {},
   "outputs": [
    {
     "name": "stdout",
     "output_type": "stream",
     "text": [
      "Credit Card Type: Visa\n",
      "Credit Card #: 4000123456789010\n"
     ]
    },
    {
     "data": {
      "text/plain": [
       "32"
      ]
     },
     "execution_count": 23,
     "metadata": {},
     "output_type": "execute_result"
    }
   ],
   "source": [
    "# 打印结果\n",
    "print(\"Credit Card Type: {}\".format(FIRST_NUMBER[outputs[0]]))\n",
    "print(\"Credit Card #: {}\".format(\"\".join(outputs)))\n",
    "cv_imshow(\"Image\", credit_card)"
   ]
  }
 ],
 "metadata": {
  "kernelspec": {
   "display_name": "Python 3 (ipykernel)",
   "language": "python",
   "name": "python3"
  },
  "language_info": {
   "codemirror_mode": {
    "name": "ipython",
    "version": 3
   },
   "file_extension": ".py",
   "mimetype": "text/x-python",
   "name": "python",
   "nbconvert_exporter": "python",
   "pygments_lexer": "ipython3",
   "version": "3.7.10"
  }
 },
 "nbformat": 4,
 "nbformat_minor": 5
}
