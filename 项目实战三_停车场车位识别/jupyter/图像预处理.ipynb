{
 "cells": [
  {
   "cell_type": "markdown",
   "id": "fea5ef57",
   "metadata": {},
   "source": [
    "## Description:\n",
    "图像预处理部分，主要是处理原始的停车场图片，通过一些图像预处理的技术，把里面的停车位一个个的提取出来， 主要包括下面的流程：\n",
    "1. 读入图像, 过滤掉背景\n",
    "2. Canny边缘检测找边缘\n",
    "3. 选出停车场区域， 使用霍夫变换找直线\n",
    "4. 根据直线信息， 以列为单位把停车位先进行划分开，每一列用一个矩形框先划分出来\n",
    "5. 可视化下，然后人工把每一列的矩形框进行微调，保证正好把所有停车位包起来\n",
    "6. 遍历每一列停车位，使用矩形框把每一个停车位用直线划分开，这个就是常规的坐标操作\n",
    "7. 可视化下上面划分结果，根据实际情况手工对直线进行调整，这里依然是保证尽量直线对其停车位分割线\n",
    "8. 调整完之后， 把停车位的坐标(左上和右下)以及编号进行保存， 这里要注意保存之前去掉无效的停车位。\n",
    "\n",
    "保存的数据，作为后面卷积神经网络预测的数据集"
   ]
  },
  {
   "cell_type": "code",
   "execution_count": 1,
   "id": "26e031a9",
   "metadata": {},
   "outputs": [],
   "source": [
    "import os\n",
    "# golb模块是用来查找符合特定规则命名的文件名的“路径+文件名”，其功能就是检索路径\n",
    "import glob  \n",
    "import numpy as np\n",
    "import cv2\n",
    "import matplotlib.pyplot as plt\n",
    "from PIL import Image\n",
    "import pickle\n",
    "\n",
    "import operator\n",
    "import collections"
   ]
  },
  {
   "cell_type": "code",
   "execution_count": 2,
   "id": "86517285",
   "metadata": {},
   "outputs": [],
   "source": [
    "def cv_imshow(title, img):\n",
    "    cv2.imshow(title, img)\n",
    "    cv2.waitKey(0)\n",
    "    cv2.destroyAllWindows()"
   ]
  },
  {
   "cell_type": "code",
   "execution_count": 3,
   "id": "b2dae8d4",
   "metadata": {},
   "outputs": [],
   "source": [
    "def plt_imshow(img, cmap=None):\n",
    "    cmap = 'gray' if len(img.shape) == 2 else cmap\n",
    "    plt.imshow(img, cmap=cmap)\n",
    "    plt.xticks([])\n",
    "    plt.yticks([])\n",
    "    plt.show()"
   ]
  },
  {
   "cell_type": "markdown",
   "id": "b2417701",
   "metadata": {},
   "source": [
    "## 读入图像数据"
   ]
  },
  {
   "cell_type": "code",
   "execution_count": 4,
   "id": "edb85920",
   "metadata": {},
   "outputs": [],
   "source": [
    "# 读入数据\n",
    "test_images = [cv2.imread(path) for path in glob.glob('../test_images/*.jpg')]  # BGR"
   ]
  },
  {
   "cell_type": "markdown",
   "id": "03eac8e5",
   "metadata": {},
   "source": [
    "* glob.glob: 返回所有匹配的文件路径列表,如果路径这里使用绝对路径，那么返回的列表也是绝对路径\n",
    "* glob.iglob: 获取一个可遍历对象，使用它可以逐个获取匹配的文件路径名。\n",
    "    * 与glob.glob()的区别是：glob.glob同时获取所有的匹配路径，而glob.iglob一次只获取一个匹配路径，同时glob.iglob返回的是一个生成器类型"
   ]
  },
  {
   "cell_type": "code",
   "execution_count": 5,
   "id": "eaa160d3",
   "metadata": {},
   "outputs": [],
   "source": [
    "cv_imshow('test', test_images[1])"
   ]
  },
  {
   "cell_type": "code",
   "execution_count": 6,
   "id": "f5d0771c",
   "metadata": {},
   "outputs": [],
   "source": [
    "# 后面就直接用某一张\n",
    "test_image = test_images[1]"
   ]
  },
  {
   "cell_type": "markdown",
   "id": "11d0c4ba",
   "metadata": {},
   "source": [
    "## 过滤掉背景"
   ]
  },
  {
   "cell_type": "code",
   "execution_count": 9,
   "id": "b710a157",
   "metadata": {},
   "outputs": [],
   "source": [
    "def select_rgb_white_yellow(image):\n",
    "    # 过滤背景\n",
    "    lower = np.uint8([120, 120, 120])\n",
    "    upper = np.uint8([255, 255, 255])\n",
    "    # 三个通道内，低于lower和高于upper的部分分别变成0， 在lower-upper之间的值变成255， 相当于mask，过滤背景\n",
    "    # 保留了像素值在120-255之间的像素值\n",
    "    white_mask = cv2.inRange(image, lower, upper)\n",
    "    masked_img = cv2.bitwise_and(image, image, mask=white_mask)\n",
    "    return masked_img"
   ]
  },
  {
   "cell_type": "markdown",
   "id": "e1165f6c",
   "metadata": {},
   "source": [
    "这里看到inRange，想到了之前用到的二值化的方法threshold, 我在想这俩有啥区别？ 为啥这里不用这个了？ 下面是我经过探索得到的几点使用经验：\n",
    "1. `cv2.threshold(src, thresh, maxval, type[, dst])`:针对的是单通道图像(灰度图), 二值化的标准,`type=THRESH_BINARY: if x > thresh, x = maxval, else x = 0`, 而`type=THRESH_BINARY_INV`: 和上面的标准反着，目前常用到了这俩个\n",
    "2. `cv2.inRange(src, lowerb, upperb)`：可以是单通道图像，可以是三通道图像，也可以进行二值化，标准是`if x >= lower and x <= upper, x = 255, else x = 0`\n",
    "\n",
    "这里做了一个实验， 事先把图片转化成灰度图`warped = cv2.cvtColor(test_image, cv2.COLOR_BGR2GRAY)`，然后下面两句代码的执行结果是一样的:\n",
    "* `cv2.threshold(warped, 119, 255, cv2.THRESH_BINARY)[1]`\n",
    "* `cv2.inRange(warped, 120, 255)`"
   ]
  },
  {
   "cell_type": "code",
   "execution_count": 10,
   "id": "5d86189f",
   "metadata": {},
   "outputs": [],
   "source": [
    "masked_img = select_rgb_white_yellow(test_image)"
   ]
  },
  {
   "cell_type": "code",
   "execution_count": 11,
   "id": "d0d0e417",
   "metadata": {},
   "outputs": [],
   "source": [
    "cv_imshow('masked_img', masked_img)"
   ]
  },
  {
   "cell_type": "code",
   "execution_count": 12,
   "id": "b2359036",
   "metadata": {},
   "outputs": [],
   "source": [
    "# 转成灰度图\n",
    "gray_img = cv2.cvtColor(masked_img, cv2.COLOR_BGR2GRAY)"
   ]
  },
  {
   "cell_type": "code",
   "execution_count": 13,
   "id": "9f6473e3",
   "metadata": {},
   "outputs": [],
   "source": [
    "cv_imshow('masked_img', gray_img)"
   ]
  },
  {
   "cell_type": "markdown",
   "id": "d2fd0ad1",
   "metadata": {},
   "source": [
    "## Canny边缘检测"
   ]
  },
  {
   "cell_type": "code",
   "execution_count": 14,
   "id": "c57d4d97",
   "metadata": {},
   "outputs": [],
   "source": [
    "low_threshold, high_threshold = 50, 200\n",
    "edges_img = cv2.Canny(gray_img, low_threshold, high_threshold)"
   ]
  },
  {
   "cell_type": "code",
   "execution_count": 17,
   "id": "16832d2f",
   "metadata": {},
   "outputs": [],
   "source": [
    "cv_imshow('edge_img', edges_img)"
   ]
  },
  {
   "cell_type": "markdown",
   "id": "7be83cb6",
   "metadata": {},
   "source": [
    "## 停车场区域提取\n",
    "接下来， 只选出停车场的这块区域来， 把其余部分去掉"
   ]
  },
  {
   "cell_type": "code",
   "execution_count": 18,
   "id": "e3f3aa30",
   "metadata": {},
   "outputs": [],
   "source": [
    "def select_region(image):\n",
    "    \"\"\"这里手动选择区域\"\"\"\n",
    "    rows, cols = image.shape[:2]\n",
    "    \n",
    "    # 下面定义6个标定点, 这个点的顺序必须让它化成一个区域，如果调整，可能会交叉起来，所以不要动\n",
    "    pt_1  = [cols*0.06, rows*0.90]   # 左下\n",
    "    pt_2 = [cols*0.06, rows*0.70]    # 左上\n",
    "    pt_3 = [cols*0.32, rows*0.51]    # 中左\n",
    "    pt_4 = [cols*0.6, rows*0.1]      # 中右\n",
    "    pt_5 = [cols*0.90, rows*0.1]     # 右上\n",
    "    pt_6 = [cols*0.90, rows*0.90]    # 右下\n",
    "    \n",
    "    vertices = np.array([[pt_1, pt_2, pt_3, pt_4, pt_5, pt_6]], dtype=np.int32)\n",
    "    point_img = image.copy()\n",
    "    point_img = cv2.cvtColor(point_img, cv2.COLOR_GRAY2BGR)\n",
    "    for point in vertices[0]:\n",
    "        cv2.circle(point_img, (point[0], point[1]), 10, (0, 0, 255), 4)\n",
    "    # cv_imshow('points_img', point_img)\n",
    "    \n",
    "    # 定义mask矩阵， 只保留点内部的区域\n",
    "    mask = np.zeros_like(image)\n",
    "    if len(mask.shape) == 2:\n",
    "        cv2.fillPoly(mask, vertices, 255)   # 点框住的地方填充为白色\n",
    "        #cv_imshow('mask', mask)\n",
    "    roi_image = cv2.bitwise_and(image, mask)\n",
    "    return roi_image"
   ]
  },
  {
   "cell_type": "code",
   "execution_count": 19,
   "id": "99ee3926",
   "metadata": {},
   "outputs": [],
   "source": [
    "roi_image = select_region(edges_img)"
   ]
  },
  {
   "cell_type": "code",
   "execution_count": 21,
   "id": "f638dd4c",
   "metadata": {},
   "outputs": [],
   "source": [
    "cv_imshow('roi_image', roi_image)"
   ]
  },
  {
   "cell_type": "markdown",
   "id": "4d37a30d",
   "metadata": {},
   "source": [
    "## 霍夫变换找到直线"
   ]
  },
  {
   "cell_type": "code",
   "execution_count": 25,
   "id": "f8feacd5",
   "metadata": {},
   "outputs": [],
   "source": [
    "def hough_lines(image):\n",
    "    # 输入的图像需要是边缘检测后的结果\n",
    "    # minLineLengh(线的最短长度，比这个短的都被忽略)和MaxLineCap（两条直线之间的最大间隔，小于此值，认为是一条直线）\n",
    "    # rho距离精度,theta角度精度,threshod超过设定阈值才被检测出线段\n",
    "    return cv2.HoughLinesP(image, rho=0.1, theta=np.pi/10, threshold=15, minLineLength=9, maxLineGap=4)"
   ]
  },
  {
   "cell_type": "code",
   "execution_count": 26,
   "id": "b3d16e06",
   "metadata": {},
   "outputs": [],
   "source": [
    "list_of_lines = hough_lines(roi_image)"
   ]
  },
  {
   "cell_type": "code",
   "execution_count": 131,
   "id": "5f1a6493",
   "metadata": {},
   "outputs": [
    {
     "data": {
      "text/plain": [
       "(2338, 1, 4)"
      ]
     },
     "execution_count": 131,
     "metadata": {},
     "output_type": "execute_result"
    }
   ],
   "source": [
    "list_of_lines.shape            # 找到了2338条直线， 4表示坐标， 两个点的x,y"
   ]
  },
  {
   "cell_type": "code",
   "execution_count": 22,
   "id": "995429b2",
   "metadata": {},
   "outputs": [],
   "source": [
    "# 过滤检测到的直线\n",
    "def draw_lines(image, lines, make_copy=True):\n",
    "    # 过滤霍夫变换检测到直线\n",
    "    if make_copy:\n",
    "        image = np.copy(image) \n",
    "    cleaned = []\n",
    "    for line in lines:\n",
    "        for x1,y1,x2,y2 in line:\n",
    "            # 这里是过滤直线，必须保证不能是斜的线，且水平方向不能太长或者太短\n",
    "            if abs(y2-y1) <=1 and abs(x2-x1) >=25 and abs(x2-x1) <= 55:\n",
    "                cleaned.append((x1,y1,x2,y2))\n",
    "                cv2.line(image, (x1, y1), (x2, y2), [255, 0, 0], 2)\n",
    "    print(\"lines detected: \", len(cleaned))\n",
    "    return image"
   ]
  },
  {
   "cell_type": "code",
   "execution_count": 27,
   "id": "d102b6ac",
   "metadata": {},
   "outputs": [
    {
     "name": "stdout",
     "output_type": "stream",
     "text": [
      "lines detected:  628\n"
     ]
    }
   ],
   "source": [
    "temp = draw_lines(roi_image, list_of_lines)"
   ]
  },
  {
   "cell_type": "code",
   "execution_count": 28,
   "id": "557884f0",
   "metadata": {},
   "outputs": [],
   "source": [
    "cv_imshow('img', temp)"
   ]
  },
  {
   "cell_type": "markdown",
   "id": "bce65bef",
   "metadata": {},
   "source": [
    "## 检测到每列停车位"
   ]
  },
  {
   "cell_type": "code",
   "execution_count": 30,
   "id": "fe268843",
   "metadata": {},
   "outputs": [],
   "source": [
    "def identity_blocks(image, lines, make_copy=True):\n",
    "    if make_copy:\n",
    "        new_image = image.copy()\n",
    "    \n",
    "    # 过滤部分直线\n",
    "    stayed_lines = []\n",
    "    for line in lines:\n",
    "        for x1, y1, x2, y2 in line:\n",
    "            # 这里是过滤直线，必须保证不能是斜的线，且水平方向不能太长或者太短\n",
    "            if abs(y2-y1) <=1 and abs(x2-x1) >=25 and abs(x2-x1) <= 55:\n",
    "                stayed_lines.append((x1,y1,x2,y2))\n",
    "    \n",
    "    # 对直线按照x1排序, 这样能让这些线从上到下排列好， 这个排序是从第一列的第一条横线，往下走，然后是第二列第一条横线往下，...\n",
    "    list1 = sorted(stayed_lines, key=operator.itemgetter(0, 1))\n",
    "\n",
    "    # 找到多个列，相当于每列是一排车\n",
    "    clusters = collections.defaultdict(list)\n",
    "    dIndex = 0\n",
    "    clus_dist = 10   # 每一列之间的那个距离\n",
    "    for i in range(len(list1) - 1):\n",
    "        # 看看相邻两条线之间的距离，如果是一列的，那么x1这个距离应该很近，毕竟是同一列上的\n",
    "        # 如果这个值大于10了，说明是下一列的了，此时需要移动dIndex， 这个表示的是第几列 \n",
    "        distance = abs(list1[i+1][0] - list1[i][0])\n",
    "        if distance <= clus_dist:\n",
    "            clusters[dIndex].append(list1[i])\n",
    "            clusters[dIndex].append(list1[i+1])\n",
    "        else:\n",
    "            dIndex += 1\n",
    "    \n",
    "    # 得到每列停车位的矩形框\n",
    "    rects = {}\n",
    "    i = 0\n",
    "    for key in clusters:\n",
    "        all_list = clusters[key]\n",
    "        cleaned = list(set(all_list))\n",
    "        # 有5个停车位至少\n",
    "        if len(cleaned) > 5:\n",
    "            cleaned = sorted(cleaned, key=lambda tup: tup[1])\n",
    "            avg_y1 = cleaned[0][1]\n",
    "            avg_y2 = cleaned[-1][1]\n",
    "            if abs(avg_y2-avg_y1) < 15:\n",
    "                continue\n",
    "            avg_x1 = 0\n",
    "            avg_x2 = 0\n",
    "            for tup in cleaned:\n",
    "                avg_x1 += tup[0]\n",
    "                avg_x2 += tup[2]\n",
    "            avg_x1 = avg_x1 / len(cleaned)\n",
    "            avg_x2 = avg_x2 / len(cleaned)\n",
    "            \n",
    "            rects[i] = [avg_x1, avg_y1, avg_x2, avg_y2]\n",
    "            i += 1\n",
    "    print('Num Parking Lanes: ', len(rects))\n",
    "    \n",
    "    # 把列矩形画出来\n",
    "    buff = 7\n",
    "    for key in rects:\n",
    "        tup_topLeft = (int(rects[key][0] - buff), int(rects[key][1]))\n",
    "        tup_botRight = (int(rects[key][2] + buff), int(rects[key][3]))\n",
    "        cv2.rectangle(new_image, tup_topLeft, tup_botRight, (0, 255, 0), 3)\n",
    "    return new_image, rects"
   ]
  },
  {
   "cell_type": "code",
   "execution_count": 31,
   "id": "40ff369b",
   "metadata": {},
   "outputs": [
    {
     "name": "stdout",
     "output_type": "stream",
     "text": [
      "Num Parking Lanes:  12\n"
     ]
    }
   ],
   "source": [
    "new_image, rects = identity_blocks(test_image, list_of_lines)"
   ]
  },
  {
   "cell_type": "code",
   "execution_count": 32,
   "id": "c98b4471",
   "metadata": {},
   "outputs": [],
   "source": [
    "cv_imshow('new_image', new_image)"
   ]
  },
  {
   "cell_type": "code",
   "execution_count": 34,
   "id": "0c796c5a",
   "metadata": {},
   "outputs": [],
   "source": [
    "def rect_finetune(image, rects, copy_img=True):\n",
    "    if copy_img:\n",
    "        image_copy = image.copy()\n",
    "    # 下面需要对上面的框进行坐标微调， 让框更加准确\n",
    "    # 这个框很重要，影响后面停车位的统计，尽量不能有遗漏\n",
    "    for k in rects:\n",
    "        if k == 0:\n",
    "            rects[k][1] -= 10\n",
    "        elif k == 1:\n",
    "            rects[k][1] -= 10\n",
    "            rects[k][3] -= 10\n",
    "        elif k == 2 or k == 3 or k == 5:\n",
    "            rects[k][1] -= 4\n",
    "            rects[k][3] += 13\n",
    "        elif k == 6 or k == 8:\n",
    "            rects[k][1] -= 18\n",
    "            rects[k][3] += 12\n",
    "        elif k == 9:\n",
    "            rects[k][1] += 10\n",
    "            rects[k][3] += 10\n",
    "        elif k == 10:\n",
    "            rects[k][1] += 45\n",
    "        elif k == 11:\n",
    "            rects[k][3] += 45\n",
    "    \n",
    "    buff = 8\n",
    "    for key in rects:\n",
    "        tup_topLeft = (int(rects[key][0]-buff), int(rects[key][1]))\n",
    "        tup_botRight = (int(rects[key][2]+buff), int(rects[key][3]))\n",
    "        cv2.rectangle(image_copy, tup_topLeft, tup_botRight, (0, 255, 0), 3)\n",
    "    \n",
    "    return image_copy, rects"
   ]
  },
  {
   "cell_type": "code",
   "execution_count": 35,
   "id": "4fbcddb4",
   "metadata": {},
   "outputs": [],
   "source": [
    "new_image, rects = rect_finetune(test_image, rects)"
   ]
  },
  {
   "cell_type": "code",
   "execution_count": 36,
   "id": "89c7b0e0",
   "metadata": {},
   "outputs": [],
   "source": [
    "cv_imshow('new_image', new_image)"
   ]
  },
  {
   "cell_type": "markdown",
   "id": "52c49093",
   "metadata": {},
   "source": [
    "## 框定出每个停车位"
   ]
  },
  {
   "cell_type": "code",
   "execution_count": 37,
   "id": "bf40e0df",
   "metadata": {},
   "outputs": [],
   "source": [
    "def draw_parking(image, rects, make_copy=True, save=True):\n",
    "    if make_copy:\n",
    "        new_image = image.copy()\n",
    "    \n",
    "    gap = 15.5\n",
    "    spot_dict = {}  # 一个车位对应一个位置\n",
    "    tot_spots = 0\n",
    "    \n",
    "    #微调\n",
    "    adj_x1 = {0: -8, 1:-15, 2:-15, 3:-15, 4:-15, 5:-15, 6:-15, 7:-15, 8:-10, 9:-10, 10:-10, 11:0}\n",
    "    adj_x2 = {0: 0, 1: 15, 2:15, 3:15, 4:15, 5:15, 6:15, 7:15, 8:10, 9:10, 10:10, 11:0}\n",
    "    fine_tune_y = {0: 4, 1: -2, 2: 3, 3: 1, 4: -3, 5: 1, 6: 5, 7: -3, 8: 0, 9: 5, 10: 4, 11: 0}\n",
    "    \n",
    "    for key in rects:\n",
    "        tup = rects[key]\n",
    "        x1 = int(tup[0] + adj_x1[key])\n",
    "        x2 = int(tup[2] + adj_x2[key])\n",
    "        y1 = int(tup[1])\n",
    "        y2 = int(tup[3])\n",
    "        cv2.rectangle(new_image, (x1, y1),(x2,y2),(0,255,0),2)\n",
    "        \n",
    "        num_splits = int(abs(y2-y1)//gap)\n",
    "        for i in range(0, num_splits+1):\n",
    "            y = int(y1+i*gap) + fine_tune_y[key]\n",
    "            cv2.line(new_image, (x1, y), (x2, y), (255, 0, 0), 2)\n",
    "        if key > 0 and key < len(rects) - 1:\n",
    "            # 竖直线\n",
    "            x = int((x1+x2) / 2)\n",
    "            cv2.line(new_image, (x, y), (x, y2), (0, 0, 255), 2)\n",
    "        \n",
    "        # 计算数量   除了第一列和最后一列，中间的都是两列的\n",
    "        if key == 0 or key == len(rects) - 1:\n",
    "            tot_spots += num_splits + 1\n",
    "        else:\n",
    "            tot_spots += 2 * (num_splits + 1)\n",
    "        \n",
    "        # 字典对应好\n",
    "        if key == 0 or key == len(rects) - 1:\n",
    "            for i in range(0, num_splits+1):\n",
    "                cur_len = len(spot_dict)\n",
    "                y = int(y1 + i * gap) + fine_tune_y[key]\n",
    "                spot_dict[(x1, y, x2, y+gap)] = cur_len + 1\n",
    "        else:\n",
    "            for i in range(0, num_splits+1):\n",
    "                cur_len = len(spot_dict)\n",
    "                y = int(y1 + i * gap) + fine_tune_y[key]\n",
    "                x = int((x1+x2) / 2)\n",
    "                spot_dict[(x1, y, x, y+gap)] = cur_len + 1\n",
    "                spot_dict[(x, y, x2, y+gap)] = cur_len + 2\n",
    "    \n",
    "    if save:\n",
    "        filename = 'with_parking.jpg'\n",
    "        cv2.imwrite(filename, new_image)\n",
    "    \n",
    "    return new_image, spot_dict"
   ]
  },
  {
   "cell_type": "code",
   "execution_count": 38,
   "id": "23ff092d",
   "metadata": {},
   "outputs": [],
   "source": [
    "new_image, spot_dict = draw_parking(test_image, rects)"
   ]
  },
  {
   "cell_type": "code",
   "execution_count": 39,
   "id": "a2e1a53a",
   "metadata": {},
   "outputs": [],
   "source": [
    "cv_imshow('parking', new_image)"
   ]
  },
  {
   "cell_type": "code",
   "execution_count": 162,
   "id": "bf1fb210",
   "metadata": {},
   "outputs": [],
   "source": [
    "# 查看每一个停车位的有效性\n",
    "# tmp_img = test_image.copy()\n",
    "# for k, v in spot_dict.items():\n",
    "#     cv2.rectangle(tmp_img, (int(k[0]), int(k[1])),(int(k[2]),int(k[3])), (0,255,0) , 2)\n",
    "#     cv_imshow(str(v), tmp_img)"
   ]
  },
  {
   "cell_type": "code",
   "execution_count": 40,
   "id": "842c2e80",
   "metadata": {},
   "outputs": [],
   "source": [
    "# 去掉多余的停车位\n",
    "invalid_spots = [10, 11, 33, 34, 37, 38, 61, 62, 93, 94, 95, 97, 98, 135, 137, 138, 187, 249, \n",
    "           250, 253, 254, 323, 324, 327, 328, 467, 468, 531, 532]\n",
    "valid_spots_dict = {}\n",
    "cur_idx = 1\n",
    "for k, v in spot_dict.items():\n",
    "    if v in invalid_spots:\n",
    "        continue\n",
    "    valid_spots_dict[k] = cur_idx\n",
    "    cur_idx += 1"
   ]
  },
  {
   "cell_type": "code",
   "execution_count": 41,
   "id": "b13cbb60",
   "metadata": {},
   "outputs": [
    {
     "data": {
      "text/plain": [
       "540"
      ]
     },
     "execution_count": 41,
     "metadata": {},
     "output_type": "execute_result"
    }
   ],
   "source": [
    "len(valid_spots_dict)  # 有效的停车位一共540个"
   ]
  },
  {
   "cell_type": "code",
   "execution_count": 44,
   "id": "3242413b",
   "metadata": {},
   "outputs": [],
   "source": [
    "# 把每一个有效停车位标记出来\n",
    "tmp_img = test_image.copy()\n",
    "for k, v in valid_spots_dict.items():\n",
    "    cv2.rectangle(tmp_img, (int(k[0]), int(k[1])),(int(k[2]),int(k[3])), (0,255,0) , 2)\n",
    "cv_imshow('valid_pot', tmp_img)"
   ]
  },
  {
   "cell_type": "code",
   "execution_count": 43,
   "id": "4542d97f",
   "metadata": {},
   "outputs": [
    {
     "data": {
      "text/plain": [
       "True"
      ]
     },
     "execution_count": 43,
     "metadata": {},
     "output_type": "execute_result"
    }
   ],
   "source": [
    "cv2.imwrite('valid_pot_img.jpg', tmp_img)"
   ]
  },
  {
   "cell_type": "code",
   "execution_count": 28,
   "id": "565e283d",
   "metadata": {},
   "outputs": [],
   "source": [
    "# 保存这个停车位字典\n",
    "with open('spot_dict.pickle', 'wb') as handle:\n",
    "    pickle.dump(valid_spots_dict, handle, protocol=pickle.HIGHEST_PROTOCOL)"
   ]
  },
  {
   "cell_type": "markdown",
   "id": "346e0895",
   "metadata": {},
   "source": [
    "## 为CNN生成预测图片"
   ]
  },
  {
   "cell_type": "code",
   "execution_count": 33,
   "id": "50941bd0",
   "metadata": {},
   "outputs": [],
   "source": [
    "def save_images_for_cnn(image, spot_dict, folder_name = '../cnn_pred_data'):\n",
    "    for spot in spot_dict.keys():\n",
    "        (x1, y1, x2, y2) = spot\n",
    "        (x1, y1, x2, y2) = (int(x1), int(y1), int(x2), int(y2))\n",
    "        \n",
    "        # 裁剪\n",
    "        spot_img = image[y1:y2, x1:x2]\n",
    "        spot_img = cv2.resize(spot_img, (0, 0), fx=2.0, fy=2.0)\n",
    "        spot_id = spot_dict[spot]\n",
    "        \n",
    "        filename = 'spot_{}.jpg'.format(str(spot_id))\n",
    "        \n",
    "        # print(spot_img.shape, filename, (x1,x2,y1,y2))\n",
    "        cv2.imwrite(os.path.join(folder_name, filename), spot_img)"
   ]
  },
  {
   "cell_type": "code",
   "execution_count": 34,
   "id": "6333cd1a",
   "metadata": {},
   "outputs": [],
   "source": [
    "save_images_for_cnn(test_image, valid_spots_dict)"
   ]
  }
 ],
 "metadata": {
  "kernelspec": {
   "display_name": "Python 3 (ipykernel)",
   "language": "python",
   "name": "python3"
  },
  "language_info": {
   "codemirror_mode": {
    "name": "ipython",
    "version": 3
   },
   "file_extension": ".py",
   "mimetype": "text/x-python",
   "name": "python",
   "nbconvert_exporter": "python",
   "pygments_lexer": "ipython3",
   "version": "3.7.10"
  }
 },
 "nbformat": 4,
 "nbformat_minor": 5
}
