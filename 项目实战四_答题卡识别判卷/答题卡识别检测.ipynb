{
 "cells": [
  {
   "cell_type": "markdown",
   "id": "aad4ebcc",
   "metadata": {},
   "source": [
    "## Description:\n",
    "这个项目是答题卡识别检测任务，给定一个学生涂好的答题卡，通过检测，给出学生答错的错题以及完成最后的评分工作。"
   ]
  },
  {
   "cell_type": "code",
   "execution_count": 1,
   "id": "de58a0f1",
   "metadata": {},
   "outputs": [],
   "source": [
    "import numpy as np\n",
    "import cv2"
   ]
  },
  {
   "cell_type": "code",
   "execution_count": 2,
   "id": "556263f1",
   "metadata": {},
   "outputs": [],
   "source": [
    "def cv_imshow(title, img):\n",
    "    cv2.imshow(title, img)\n",
    "    cv2.waitKey(0)\n",
    "    cv2.destroyAllWindows()"
   ]
  },
  {
   "cell_type": "code",
   "execution_count": 3,
   "id": "fe420ba1",
   "metadata": {},
   "outputs": [],
   "source": [
    "img_path = 'images/test_01.png'\n",
    "img = cv2.imread(img_path)"
   ]
  },
  {
   "cell_type": "code",
   "execution_count": 4,
   "id": "4b099a52",
   "metadata": {},
   "outputs": [],
   "source": [
    "cv_imshow('img', img)"
   ]
  },
  {
   "cell_type": "code",
   "execution_count": 10,
   "id": "d5057bc3",
   "metadata": {},
   "outputs": [],
   "source": [
    "contours_img = img.copy()"
   ]
  },
  {
   "cell_type": "markdown",
   "id": "3f398783",
   "metadata": {},
   "source": [
    "## 预处理\n",
    "主要包括转成灰度图，高斯滤波，边缘检测， 轮廓检测"
   ]
  },
  {
   "cell_type": "code",
   "execution_count": 5,
   "id": "dbda62c8",
   "metadata": {},
   "outputs": [],
   "source": [
    "# 转成灰度图\n",
    "gray = cv2.cvtColor(img, cv2.COLOR_BGR2GRAY)"
   ]
  },
  {
   "cell_type": "code",
   "execution_count": 13,
   "id": "09284c31",
   "metadata": {},
   "outputs": [],
   "source": [
    "cv_imshow('gray', gray)"
   ]
  },
  {
   "cell_type": "code",
   "execution_count": 6,
   "id": "8f21ffd6",
   "metadata": {},
   "outputs": [],
   "source": [
    "# 高斯滤波\n",
    "blured = cv2.GaussianBlur(gray, (5, 5), 0)"
   ]
  },
  {
   "cell_type": "code",
   "execution_count": 39,
   "id": "7b882592",
   "metadata": {},
   "outputs": [],
   "source": [
    "cv_imshow('blured', blured)"
   ]
  },
  {
   "cell_type": "code",
   "execution_count": 7,
   "id": "36fc8b8f",
   "metadata": {},
   "outputs": [],
   "source": [
    "# 边缘检测\n",
    "edged = cv2.Canny(blured, 75, 200)"
   ]
  },
  {
   "cell_type": "code",
   "execution_count": 41,
   "id": "2fdf5b54",
   "metadata": {},
   "outputs": [],
   "source": [
    "cv_imshow('edged', edged)"
   ]
  },
  {
   "cell_type": "code",
   "execution_count": 8,
   "id": "a60fdff5",
   "metadata": {},
   "outputs": [],
   "source": [
    "# 轮廓检测\n",
    "# 轮廓检测这里应该在边缘检测的结果上进行，才能锁定答题区域， 如果换成灰度图，这里检测不到答题卡的轮廓\n",
    "cnts, _ = cv2.findContours(edged.copy(), cv2.RETR_EXTERNAL, cv2.CHAIN_APPROX_SIMPLE)"
   ]
  },
  {
   "cell_type": "code",
   "execution_count": 11,
   "id": "6df8e7ed",
   "metadata": {},
   "outputs": [],
   "source": [
    "_ = cv2.drawContours(contours_img, cnts, -1, (0, 0, 255), 3)"
   ]
  },
  {
   "cell_type": "code",
   "execution_count": 12,
   "id": "ea7d3feb",
   "metadata": {},
   "outputs": [],
   "source": [
    "cv_imshow('contorus_img', contours_img)"
   ]
  },
  {
   "cell_type": "code",
   "execution_count": 30,
   "id": "cda544eb",
   "metadata": {},
   "outputs": [
    {
     "data": {
      "text/plain": [
       "1"
      ]
     },
     "execution_count": 30,
     "metadata": {},
     "output_type": "execute_result"
    }
   ],
   "source": [
    "len(cnts)"
   ]
  },
  {
   "cell_type": "markdown",
   "id": "d63656ba",
   "metadata": {},
   "source": [
    "## 透视变换\n",
    "有了答题卡轮廓，接下来，就是把答题卡轮廓的四个坐标拿到，然后对该区域做透视变换，让其铺满整个图像"
   ]
  },
  {
   "cell_type": "code",
   "execution_count": 13,
   "id": "1f670005",
   "metadata": {},
   "outputs": [],
   "source": [
    "dotCnt = None\n",
    "\n",
    "# 这里对上面的轮廓进行一次筛选， 确保是答题卡的轮廓，因为有可能检测到里面的原形轮廓，另外一个就是最外面的答题卡轮廓目前并不是\n",
    "# 很标准， 边缘是锯齿形的，所以要在看是否是最外面的轮廓之前，进行轮廓近似操作\n",
    "if len(cnts) > 0:\n",
    "    # 根据轮廓大小进行排序\n",
    "    cnts = sorted(cnts, key=cv2.contourArea, reverse=True)\n",
    "    \n",
    "    for c in cnts:\n",
    "        # 轮廓近似\n",
    "        peri = cv2.arcLength(c, True)\n",
    "        approx = cv2.approxPolyDP(c, 0.02*peri, True)\n",
    "        \n",
    "        # 保存四个顶点，为透视变换做准备\n",
    "        if len(approx) == 4:\n",
    "            dotCnt = approx\n",
    "            break"
   ]
  },
  {
   "cell_type": "code",
   "execution_count": 54,
   "id": "c8fcacc4",
   "metadata": {},
   "outputs": [
    {
     "data": {
      "text/plain": [
       "(4, 1, 2)"
      ]
     },
     "execution_count": 54,
     "metadata": {},
     "output_type": "execute_result"
    }
   ],
   "source": [
    "dotCnt.shape"
   ]
  },
  {
   "cell_type": "code",
   "execution_count": 14,
   "id": "6cbf4dee",
   "metadata": {},
   "outputs": [],
   "source": [
    "point_img = img.copy()\n",
    "for point in dotCnt:\n",
    "    cv2.circle(point_img, (point[0][0], point[0][1]), 10, (0, 0, 255), 4) # img, center, radius, color, thickness\n",
    "\n",
    "cv_imshow('point_img', point_img)"
   ]
  },
  {
   "cell_type": "code",
   "execution_count": 15,
   "id": "e4b21364",
   "metadata": {},
   "outputs": [],
   "source": [
    "def order_points(pts):\n",
    "    # 一共四个点\n",
    "    rect = np.zeros((4, 2), dtype='float32')\n",
    "    \n",
    "    # 按照顺序对应坐标0123分别是左上， 右上， 右下， 左下\n",
    "    s = pts.sum(axis=1)  # 横纵坐标相加， 左上的之和最小，右下的之和最大\n",
    "    rect[0] = pts[np.argmin(s)]\n",
    "    rect[2] = pts[np.argmax(s)]\n",
    "    \n",
    "    diff = np.diff(pts, axis=1)   # 纵坐标-横坐标， 右上的之差最小， 左下的之差最大\n",
    "    rect[1] = pts[np.argmin(diff)]\n",
    "    rect[3] = pts[np.argmax(diff)]\n",
    "    return rect"
   ]
  },
  {
   "cell_type": "code",
   "execution_count": 16,
   "id": "795ff29f",
   "metadata": {},
   "outputs": [],
   "source": [
    "# 透视变换函数\n",
    "def four_point_transform(img, pts):\n",
    "    # 获取坐标点\n",
    "    rect = order_points(pts)\n",
    "    (tl, tr, br, bl) = rect\n",
    "    \n",
    "    # 计算输入的w和h的值，方便定位新坐标\n",
    "    widthA = np.sqrt(((br[0] - bl[0]) ** 2) + ((br[1] - bl[1]) ** 2))\n",
    "    widthB = np.sqrt(((tr[0] - tl[0]) ** 2) + ((tr[1] - tl[1]) ** 2))\n",
    "    maxWidth = max(int(widthA), int(widthB))\n",
    "\n",
    "    heightA = np.sqrt(((tr[0] - br[0]) ** 2) + ((tr[1] - br[1]) ** 2))\n",
    "    heightB = np.sqrt(((tl[0] - bl[0]) ** 2) + ((tl[1] - bl[1]) ** 2))\n",
    "    maxHeight = max(int(heightA), int(heightB))\n",
    "    \n",
    "    # 变换后对应坐标位置\n",
    "    dst = np.array([\n",
    "        [0, 0], \n",
    "        [maxWidth-1, 0], \n",
    "        [maxWidth-1, maxHeight-1],\n",
    "        [0, maxHeight-1]\n",
    "    ], dtype='float32')\n",
    "    \n",
    "    # 计算变换矩阵\n",
    "    M = cv2.getPerspectiveTransform(rect, dst)\n",
    "    warped = cv2.warpPerspective(img, M, (maxWidth, maxHeight))\n",
    "    \n",
    "    return warped"
   ]
  },
  {
   "cell_type": "code",
   "execution_count": 45,
   "id": "2f243f6a",
   "metadata": {},
   "outputs": [],
   "source": [
    "warped = four_point_transform(gray, dotCnt.reshape(4, 2))"
   ]
  },
  {
   "cell_type": "code",
   "execution_count": 18,
   "id": "6b864060",
   "metadata": {},
   "outputs": [],
   "source": [
    "cv_imshow('warped', warped)"
   ]
  },
  {
   "cell_type": "markdown",
   "id": "166dc460",
   "metadata": {},
   "source": [
    "## 圆圈的轮廓检测"
   ]
  },
  {
   "cell_type": "code",
   "execution_count": 19,
   "id": "48db79fa",
   "metadata": {},
   "outputs": [],
   "source": [
    "# 在轮廓检测之前，先通过阈值把图像处理成黑白图像，这样后面找圆圈的轮廓才能更加清晰\n",
    "thresh = cv2.threshold(warped, 0, 255, cv2.THRESH_BINARY_INV | cv2.THRESH_OTSU)[1]"
   ]
  },
  {
   "cell_type": "code",
   "execution_count": 116,
   "id": "e43d5d31",
   "metadata": {},
   "outputs": [],
   "source": [
    "cv_imshow('thresh', thresh)"
   ]
  },
  {
   "cell_type": "code",
   "execution_count": 20,
   "id": "45ecec0a",
   "metadata": {},
   "outputs": [],
   "source": [
    "# 检测每个圆圈轮廓\n",
    "thresh_Countours = warped.copy()"
   ]
  },
  {
   "cell_type": "code",
   "execution_count": 21,
   "id": "2b0d9f5a",
   "metadata": {},
   "outputs": [],
   "source": [
    "cnts, _ = cv2.findContours(thresh.copy(), cv2.RETR_EXTERNAL, cv2.CHAIN_APPROX_SIMPLE)"
   ]
  },
  {
   "cell_type": "code",
   "execution_count": 22,
   "id": "46dcbbe4",
   "metadata": {},
   "outputs": [],
   "source": [
    "_ = cv2.drawContours(thresh_Countours, cnts, -1, (255, 0, 0), 3)"
   ]
  },
  {
   "cell_type": "code",
   "execution_count": 23,
   "id": "92149d04",
   "metadata": {},
   "outputs": [],
   "source": [
    "cv_imshow('thresh_contours', thresh_Countours)"
   ]
  },
  {
   "cell_type": "code",
   "execution_count": 24,
   "id": "d24c4242",
   "metadata": {},
   "outputs": [],
   "source": [
    "# 此时检测到的轮廓很多，我们下面需要过滤， 选择出答案的那些圆形轮廓\n",
    "questionCnts = []\n",
    "for c in cnts:\n",
    "    # 计算比例和大小\n",
    "    (x, y, w, h) = cv2.boundingRect(c)   # 外接矩形， 原型的外接矩形的长宽比例接近1\n",
    "    ar = w / float(h)\n",
    "    \n",
    "    # 根据实际情况指定标准\n",
    "    if w >= 20 and h >= 20 and ar >= 0.0 and ar <= 1.1:\n",
    "        questionCnts.append(c)"
   ]
  },
  {
   "cell_type": "code",
   "execution_count": 25,
   "id": "157e7f77",
   "metadata": {},
   "outputs": [],
   "source": [
    "temp = warped.copy()\n",
    "_ = cv2.drawContours(temp, questionCnts, -1, (255, 0, 0), 3)\n",
    "cv_imshow('tmp', temp)"
   ]
  },
  {
   "cell_type": "code",
   "execution_count": 26,
   "id": "0dc36449",
   "metadata": {},
   "outputs": [],
   "source": [
    "def sort_contours(cnts, method='left-to-right'):\n",
    "    reverse = False\n",
    "    i = 0\n",
    "    if method == 'right-to-left' or method == 'bottom-to-top':\n",
    "        reverse = True\n",
    "    if method == 'top-to-bottom' or method == 'bottom-to-top':\n",
    "        i = 1\n",
    "    boundingBoxes = [cv2.boundingRect(c) for c in cnts]\n",
    "    (cnts, boundingBoxes) = zip(*sorted(zip(cnts, boundingBoxes), key=lambda b: b[1][i], reverse=reverse))\n",
    "    return cnts, boundingBoxes"
   ]
  },
  {
   "cell_type": "code",
   "execution_count": 27,
   "id": "846ed3b8",
   "metadata": {},
   "outputs": [],
   "source": [
    "# 接下来， 就是把这些圆圈排序，首先需要先按照每个题排列好，不同题的x坐标一致， y坐标是从小到大\n",
    "questionCnts = sort_contours(questionCnts, method='top-to-bottom')[0]"
   ]
  },
  {
   "cell_type": "markdown",
   "id": "2e9ff6e7",
   "metadata": {},
   "source": [
    "## 遍历检测"
   ]
  },
  {
   "cell_type": "code",
   "execution_count": 41,
   "id": "263320cc",
   "metadata": {},
   "outputs": [],
   "source": [
    "# 正确答案\n",
    "ANSWER_KEY = {0: 1, 1: 4, 2: 0, 3: 3, 4: 1}\n",
    "\n",
    "correct = 0"
   ]
  },
  {
   "cell_type": "code",
   "execution_count": 46,
   "id": "a8efbae7",
   "metadata": {},
   "outputs": [],
   "source": [
    "# 遍历每个题目\n",
    "for (q_idx, i) in enumerate(np.arange(0, len(questionCnts), 5)):\n",
    "    # 拿到当前题目的5个选项，并且从左到右排序\n",
    "    cnts = sort_contours(questionCnts[i:i+5])[0]\n",
    "    selected = None\n",
    "    \n",
    "    # 遍历每个结果\n",
    "    for (j, c) in enumerate(cnts):\n",
    "        # 使用mask来判断选择的是哪个答案\n",
    "        mask = np.zeros(thresh.shape, dtype='uint8')\n",
    "        cv2.drawContours(mask, [c], -1, 255, -1)\n",
    "        \n",
    "        # 通过计算非零点数量来算是否选择了当前答案\n",
    "        mask = cv2.bitwise_and(thresh, thresh, mask=mask)\n",
    "        total_non_zeros = cv2.countNonZero(mask)\n",
    "        \n",
    "        # 通过阈值判断  选出非零点数量最多的那个来\n",
    "        if selected is None or total_non_zeros > selected[0]:\n",
    "            selected = (total_non_zeros, j)\n",
    "    \n",
    "    # 对比正确答案\n",
    "    color = (255, 0, 0)\n",
    "    true_ans = ANSWER_KEY[q_idx]\n",
    "    \n",
    "    # 选择正确\n",
    "    if true_ans == selected[1]:\n",
    "        correct += 1\n",
    "        color = (0, 255, 0)\n",
    "    \n",
    "    # 绘图\n",
    "    cv2.drawContours(warped, [cnts[true_ans]], -1, color, 3)"
   ]
  },
  {
   "cell_type": "code",
   "execution_count": 47,
   "id": "be9df325",
   "metadata": {},
   "outputs": [],
   "source": [
    "cv_imshow('warped', warped)"
   ]
  },
  {
   "cell_type": "code",
   "execution_count": 129,
   "id": "5a29e856",
   "metadata": {},
   "outputs": [
    {
     "data": {
      "text/plain": [
       "25"
      ]
     },
     "execution_count": 129,
     "metadata": {},
     "output_type": "execute_result"
    }
   ],
   "source": [
    "len(questionCnts)"
   ]
  },
  {
   "cell_type": "code",
   "execution_count": 49,
   "id": "3ce7e139",
   "metadata": {},
   "outputs": [
    {
     "name": "stdout",
     "output_type": "stream",
     "text": [
      "[INFO] score: 80.00%\n"
     ]
    }
   ],
   "source": [
    "exam_img = warped.copy()\n",
    "score = (correct / 5) * 100\n",
    "print(\"[INFO] score: {:.2f}%\".format(score))\n",
    "cv2.putText(exam_img, \"{:.2f}%\".format(score), (10, 30),\n",
    "    cv2.FONT_HERSHEY_SIMPLEX, 0.9, (0, 0, 255), 2)\n",
    "cv_imshow(\"Original\", img)\n",
    "cv_imshow(\"Exam\", exam_img)"
   ]
  },
  {
   "cell_type": "markdown",
   "id": "0193088e",
   "metadata": {},
   "source": [
    "## 封装成算法检测"
   ]
  },
  {
   "cell_type": "code",
   "execution_count": 1,
   "id": "00cfdcc9",
   "metadata": {},
   "outputs": [],
   "source": [
    "from answer_sheet import answer_dect\n",
    "from utils import cv_imshow\n",
    "import cv2"
   ]
  },
  {
   "cell_type": "code",
   "execution_count": 2,
   "id": "6c1de682",
   "metadata": {},
   "outputs": [],
   "source": [
    "test_img = cv2.imread('images/test_02.png')\n",
    "# 正确答案\n",
    "ANSWER_KEY = {0: 1, 1: 4, 2: 0, 3: 3, 4: 1}\n",
    "\n",
    "exam_img = answer_dect(test_img, ANSWER_KEY)\n",
    "\n",
    "cv_imshow('test_img', test_img)\n",
    "cv_imshow('exam_img', exam_img)"
   ]
  }
 ],
 "metadata": {
  "kernelspec": {
   "display_name": "Python 3 (ipykernel)",
   "language": "python",
   "name": "python3"
  },
  "language_info": {
   "codemirror_mode": {
    "name": "ipython",
    "version": 3
   },
   "file_extension": ".py",
   "mimetype": "text/x-python",
   "name": "python",
   "nbconvert_exporter": "python",
   "pygments_lexer": "ipython3",
   "version": "3.7.10"
  }
 },
 "nbformat": 4,
 "nbformat_minor": 5
}
